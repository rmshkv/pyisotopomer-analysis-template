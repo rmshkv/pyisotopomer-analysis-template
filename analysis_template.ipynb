{
 "cells": [
  {
   "cell_type": "code",
   "execution_count": null,
   "id": "d4c21805-3bbe-4fd3-b889-68e4f46c7975",
   "metadata": {},
   "outputs": [],
   "source": [
    "import xarray as xr\n",
    "import pandas as pd\n",
    "import matplotlib.pyplot as plt\n",
    "import numpy as np\n",
    "import xlrd\n",
    "import pyisotopomer\n",
    "\n",
    "import bokeh\n",
    "import bokeh.io\n",
    "import bokeh.plotting"
   ]
  },
  {
   "cell_type": "code",
   "execution_count": null,
   "id": "36065971-9637-422b-be74-fc453f93ea58",
   "metadata": {},
   "outputs": [],
   "source": [
    "# Setting up Bokeh to run inline\n",
    "\n",
    "bokeh.io.output_notebook()"
   ]
  },
  {
   "cell_type": "code",
   "execution_count": null,
   "id": "2c8913d0-b940-47ae-b3b2-e3a9b3a1babc",
   "metadata": {},
   "outputs": [],
   "source": [
    "# Setting how many lines of Pandas output to display\n",
    "# Change this to scroll through all of your data\n",
    "\n",
    "pd.set_option('display.max_rows', 50)"
   ]
  },
  {
   "cell_type": "markdown",
   "id": "e5e5c13c-5530-4786-9aca-613c21cdcf1e",
   "metadata": {},
   "source": [
    "# Inputs"
   ]
  },
  {
   "cell_type": "markdown",
   "id": "239803ad-734e-431a-ba5a-a83b9fd2da71",
   "metadata": {},
   "source": [
    "## <span style=\"color:orange\">INPUT: Isodat files</span>\n",
    "Paths to all Isodat output files you want to analyze with a common set of standards. Noah recommends using 5-day chunks."
   ]
  },
  {
   "cell_type": "code",
   "execution_count": null,
   "id": "3ca93880-84b4-412e-a7b4-6ba912637681",
   "metadata": {},
   "outputs": [],
   "source": [
    "input_list = ['raw_benguela_data/240930_V_Benguela24_St2.xls',\n",
    "             'raw_benguela_data/241010_V_Benguela24_St2_rerun_St3_St4_pt1.xls',\n",
    "             'raw_benguela_data/241011_V_Benguela24_St4_pt2.xls',\n",
    "             'raw_benguela_data/241017_V_Benguela24_St4_7.xls',]"
   ]
  },
  {
   "cell_type": "markdown",
   "id": "10464c15-88f3-42fc-a407-3117bf450e26",
   "metadata": {},
   "source": [
    "## <span style=\"color:orange\">INPUT: Output file names</span>\n",
    "Set where you want pyisotopomer and final processed output to be saved. Keeping `None` for the pyisotopomer output locations will save with the default name in your working directory."
   ]
  },
  {
   "cell_type": "code",
   "execution_count": null,
   "id": "600db7e4-bad8-4d9e-85cc-f856e47fd2f7",
   "metadata": {},
   "outputs": [],
   "source": [
    "chunkname= \"240930_241017_Benguela24\"\n",
    "\n",
    "scrambling_output_file=\"pyisotopomer_output/scrambling_\" + chunkname + \".xlsx\"\n",
    "isotopomers_output_file=\"pyisotopomer_output/isotopomers_\" + chunkname + \".xlsx\"\n",
    "processed_output_file=\"processed_benguela_data/\" + chunkname + \".csv\"\n",
    "processed_std_file = \"processed_benguela_std/\" + chunkname + \".csv\""
   ]
  },
  {
   "cell_type": "markdown",
   "id": "1f8971f9-279d-4506-9a6a-0bf5cc5bcb29",
   "metadata": {},
   "source": [
    "## <span style=\"color:orange\">INPUT: Size series and scrambling </span>\n",
    "Path to that month's scrambling and size correction output. These are found in the Google Drive in `Project Folders/A01 standards and troubleshooting/Scrambling runs` and `Project Folders/A01 standards and troubleshooting/Size series & sensitivity`."
   ]
  },
  {
   "cell_type": "code",
   "execution_count": null,
   "id": "ffa86210-7823-474f-8d60-f8c14fcedbaa",
   "metadata": {},
   "outputs": [],
   "source": [
    "sizeseries_excel = 'scrambling_sizecorr/240918 N2O Size Correction and Sensitivity.xlsx'\n",
    "scrambling_excel = 'scrambling_sizecorr/240918 Scrambling.xlsx'"
   ]
  },
  {
   "cell_type": "markdown",
   "id": "ed337eb2-9a6e-47ac-bd1c-ec9302c928d3",
   "metadata": {},
   "source": [
    "Make sure these values match what's in the spreadsheet. If the cells in the template got shifted, you'll have to adjust the next couple cells."
   ]
  },
  {
   "cell_type": "code",
   "execution_count": null,
   "id": "609f6532-d588-4200-a7e6-f574116e1212",
   "metadata": {},
   "outputs": [],
   "source": [
    "sizeseries_df = pd.read_excel(sizeseries_excel, usecols=\"L:R\", skiprows=49, nrows=2)\n",
    "sizeseries_df"
   ]
  },
  {
   "cell_type": "code",
   "execution_count": null,
   "id": "30a043cb-4306-4f60-8531-a8f2a187ed7b",
   "metadata": {},
   "outputs": [],
   "source": [
    "# getting size series slope values\n",
    "\n",
    "sizecorr_slope45R = sizeseries_df[\"45R\"][0]\n",
    "sizecorr_slope46R = sizeseries_df[\"46R\"][0]\n",
    "sizecorr_slope31R = sizeseries_df[\"31R\"][0]\n",
    "\n",
    "print(\"45R slope: \" + str(sizecorr_slope45R))\n",
    "print(\"46R slope: \" + str(sizecorr_slope46R))\n",
    "print(\"31R slope: \" + str(sizecorr_slope31R))\n"
   ]
  },
  {
   "cell_type": "code",
   "execution_count": null,
   "id": "ef357d6d-43d4-4ff9-92ea-cec154072490",
   "metadata": {},
   "outputs": [],
   "source": [
    "scrambling_df = pd.read_excel(scrambling_excel, usecols=\"AL:AQ\", skiprows=1)\n",
    "scrambling_df[0:3] #gamma and kappa in all rows should be the same, but feel free to check more"
   ]
  },
  {
   "cell_type": "code",
   "execution_count": null,
   "id": "e6cdbb4b-501e-4605-bfbd-574daf65d165",
   "metadata": {},
   "outputs": [],
   "source": [
    "gamma_initial_guess = scrambling_df[\"gamma\"][0]\n",
    "kappa_initial_guess = scrambling_df[\"kappa\"][0]\n",
    "\n",
    "print(\"gamma initial guess: \" + str(gamma_initial_guess))\n",
    "print(\"kappa initial guess: \" + str(kappa_initial_guess))"
   ]
  },
  {
   "cell_type": "markdown",
   "id": "a3267e82-e542-4ae6-96fa-6dcd55da41d6",
   "metadata": {},
   "source": [
    "## Concentration constants"
   ]
  },
  {
   "cell_type": "code",
   "execution_count": null,
   "id": "fd14ca13-bab1-40c1-8049-425d73df89e7",
   "metadata": {},
   "outputs": [],
   "source": [
    "conc_slopes_df = pd.read_excel(sizeseries_excel, usecols=\"F:I\", skiprows=41, nrows=5)\n",
    "conc_slopes_df"
   ]
  },
  {
   "cell_type": "code",
   "execution_count": null,
   "id": "49cdf770-e1f9-4890-8be9-f0590f7f318c",
   "metadata": {},
   "outputs": [],
   "source": [
    "conc_slope = conc_slopes_df.iloc[0,1]\n",
    "conc_slope_err = conc_slopes_df.iloc[1,1]\n",
    "\n",
    "conc_int = conc_slopes_df.iloc[0,2]\n",
    "conc_int_err = conc_slopes_df.iloc[1,2]\n",
    "\n",
    "print(\"slope (nmol/Vs): \" + str(conc_slope))\n",
    "print(\"slope error (nmol/Vs): \" + str(conc_slope_err))\n",
    "print(\"intercept (nmol): \" + str(conc_int))\n",
    "print(\"intercept error (nmol): \" + str(conc_int_err))"
   ]
  },
  {
   "cell_type": "markdown",
   "id": "a8e0c886-3041-491e-98dc-4e47c45b0bf3",
   "metadata": {},
   "source": [
    "## Reference N$_2$O tank values\n",
    "These stay constant unless the reference tank gets changed, which won't happen for a while."
   ]
  },
  {
   "cell_type": "code",
   "execution_count": null,
   "id": "128915eb-0c62-410d-b53d-71d391294a20",
   "metadata": {},
   "outputs": [],
   "source": [
    "N2O_ref31R = 0.00373376282567055\n",
    "N2O_ref45R = 0.00774102494962263\n",
    "N2O_ref46R = 0.00210129522157562"
   ]
  },
  {
   "cell_type": "markdown",
   "id": "3e99ee99-93aa-4e46-b867-04ba803fc799",
   "metadata": {},
   "source": [
    "## Reference values for standard gases\n",
    "\n",
    "Currently includes S2, AESW, and 1000 ppm. Add others if you need them."
   ]
  },
  {
   "cell_type": "code",
   "execution_count": null,
   "id": "f542e419-7168-4334-b47e-df506e50d223",
   "metadata": {},
   "outputs": [],
   "source": [
    "### Constants\n",
    "# Consider running this elsewhere and pulling these values in from a CSV\n",
    "\n",
    "# Known values for standards\n",
    "\n",
    "std_const = pd.DataFrame(index=[\"S2\", \"AESW\", \"1000ppm\"], columns=[\"ref_tag\", \"d15Na\", \"d15Nb\", \"d18O\"])\n",
    "std_const[\"ref_tag\"] = std_const.index\n",
    "\n",
    "std_const.at['S2', 'd15Na'], std_const.at['S2', 'd15Nb'], std_const.at['S2', 'd18O'] = 5.55, -12.87, 32.73\n",
    "std_const.at['AESW', 'd15Na'], std_const.at['AESW', 'd15Nb'], std_const.at['AESW', 'd18O'] = 15.6, -2.3, 44.4\n",
    "std_const.at['1000ppm', 'd15Na'], std_const.at['1000ppm', 'd15Nb'], std_const.at['1000ppm', 'd18O'] = -0.11, -0.45, 37.83\n",
    "\n",
    "# Derived values\n",
    "\n",
    "std_const['d15Nbulk'] = std_const[['d15Na', 'd15Nb']].mean(axis=1)\n",
    "std_const['SP'] = std_const['d15Na'] - std_const['d15Nb']\n",
    "\n",
    "std_const['15Ralpha'] = (std_const['d15Na']/1000 + 1)*0.0036765\n",
    "std_const['15Rbeta'] = (std_const['d15Nb']/1000 + 1)*0.0036765\n",
    "std_const['18R'] = (std_const['d18O']/1000 + 1)*0.0020052\n",
    "std_const['17R'] = (std_const['d18O']/1000 + 1)**0.516 * 0.0003799\n",
    "std_const['45R'] = std_const['15Ralpha'] + std_const['15Rbeta'] + std_const['17R']\n",
    "std_const['46R'] = ((std_const['15Ralpha'] + std_const['15Rbeta'])*std_const['17R'] \n",
    "                    + std_const['18R'] + std_const['15Ralpha']*std_const['15Rbeta'])\n",
    "\n",
    "std_const['45R/45R'] = std_const['45R']/N2O_ref45R\n",
    "std_const['46R/46R'] = std_const['46R']/N2O_ref46R\n",
    "\n",
    "std_const"
   ]
  },
  {
   "cell_type": "markdown",
   "id": "d1968ea6-1d98-4094-92ec-9815f862e676",
   "metadata": {},
   "source": [
    "# Preprocessing\n",
    "## Reading in Isodat data\n",
    "\n",
    "Read the data into a Pandas dataframe and concatenate."
   ]
  },
  {
   "cell_type": "code",
   "execution_count": null,
   "id": "6228de3e-fd78-4bdb-a15d-8f1f656d5b46",
   "metadata": {},
   "outputs": [],
   "source": [
    "df_sample = pd.DataFrame()\n",
    "df_std = pd.DataFrame()\n",
    "\n",
    "for filename in input_list:\n",
    "    single_df_sample = pd.read_excel(filename, sheet_name=\"160hdspcN2OrR314546sample_V3_15\")\n",
    "    single_df_std = pd.read_excel(filename, sheet_name=\"160hdspcN2OrR314546standard_V3_\")\n",
    "\n",
    "    date = filename.split('/')[1][:6]\n",
    "\n",
    "    single_df_sample.insert(0, 'run_date', date)\n",
    "    single_df_std.insert(0, 'run_date', date)\n",
    "\n",
    "    single_df_sample[\"Isodat output filename\"] = filename.split('/')[-1]\n",
    "    single_df_std[\"Isodat output filename\"] = filename.split('/')[-1]\n",
    "    \n",
    "    # The following pulls the run date from the file name. If you used a different naming convention, \n",
    "    # forgot to change the date that day, etc., fix this manually.\n",
    "\n",
    "    df_sample = pd.concat([single_df_sample, df_sample])\n",
    "    df_std = pd.concat([single_df_std, df_std])"
   ]
  },
  {
   "cell_type": "markdown",
   "id": "2249d48b-f70e-42a8-9de7-d796c23d0490",
   "metadata": {},
   "source": [
    "## Bringing data in line\n",
    "This gets rid of data from CO$_2$ peaks and lines up the Area 44 and Area 30 rows for each bottle. Check the output to make sure it's working properly."
   ]
  },
  {
   "cell_type": "code",
   "execution_count": null,
   "id": "e984e509-2e44-4a21-877e-a52282547f80",
   "metadata": {},
   "outputs": [],
   "source": [
    "def bring_in_line(df_input):\n",
    "\n",
    "    # Adjust this to also double check peak areas?\n",
    "\n",
    "    df_input[\"Unique ID\"] = df_input[\"Identifier 1\"] + '_' + df_input[\"run_date\"]\n",
    "\n",
    "    grouped = df_input.groupby(\"Time Code\")\n",
    "\n",
    "    df_new = pd.DataFrame()\n",
    "    \n",
    "    for group_name, df_group in grouped:\n",
    "\n",
    "        sample_ID = df_group[\"Unique ID\"].iloc[0]\n",
    "        \n",
    "        df_group = df_group[~(df_group[\"d 15N/14N\"] > 500)]\n",
    "    \n",
    "        if len(df_group) == 2:\n",
    "            df1 = df_group.iloc[::2].reset_index()\n",
    "            df2 = df_group.iloc[1::2].reset_index()\n",
    "            df = df1.assign(**{\"Area 30\": df2[\"Area 30\"], \"rR 31NO/30NO\": df2[\"rR 31NO/30NO\"]})\n",
    "\n",
    "            df_new = pd.concat([df_new, df])\n",
    "    \n",
    "        else:\n",
    "            print(\"Warning: only CO2 peak(s) detected for row \" + str(sample_ID) + \". Row will be dropped.\")\n",
    "    \n",
    "    df_new = df_new.set_index(\"Unique ID\", drop=False)\n",
    "    \n",
    "    if not df_new.index.is_unique:\n",
    "        print(df_new.index)\n",
    "        raise IndexError(\n",
    "            \"\"\"\n",
    "            Sample indices are not unique - check that the dates in your file names are unique\n",
    "            and that standards from the same day have different names (e.g. 1000ppm_C).\n",
    "            \"\"\")\n",
    "        \n",
    "    df_new = df_new.drop(columns=[\"index\"])\n",
    "\n",
    "    return df_new\n",
    "        "
   ]
  },
  {
   "cell_type": "code",
   "execution_count": null,
   "id": "201f090a-cbce-4b8a-8d49-f662b9fefc24",
   "metadata": {},
   "outputs": [],
   "source": [
    "df_sample = bring_in_line(df_sample)\n",
    "df_std = bring_in_line(df_std)"
   ]
  },
  {
   "cell_type": "code",
   "execution_count": null,
   "id": "673ef15e-d848-455b-b7cf-6d9236b917fe",
   "metadata": {},
   "outputs": [],
   "source": [
    "df_sample"
   ]
  },
  {
   "cell_type": "code",
   "execution_count": null,
   "id": "582b672e-4721-46b9-ab87-58d568a0a2ce",
   "metadata": {
    "scrolled": true
   },
   "outputs": [],
   "source": [
    "df_std = df_std.drop(\"1000ppm_rerun_240930\")\n",
    "df_std"
   ]
  },
  {
   "cell_type": "markdown",
   "id": "fe7d64c0-7310-4d14-8833-c5d67020b76a",
   "metadata": {},
   "source": [
    "## Setting up analysis dataframe"
   ]
  },
  {
   "cell_type": "code",
   "execution_count": null,
   "id": "1eb0ee04-73ec-4349-a753-936adf76c302",
   "metadata": {},
   "outputs": [],
   "source": [
    "df_analysis = df_sample.copy()\n",
    "df_analysis = df_analysis.rename(columns={\"rR 45N2O/44N2O\": \"rR 45N2O/44N2O sam\",\n",
    "                           \"rR 46N2O/44N2O\": \"rR 46N2O/44N2O sam\",\n",
    "                           \"rR 31NO/30NO\": \"rR 31NO/30NO sam\"})\n",
    "\n",
    "# Getting values from standard sheet\n",
    "df_analysis[\"rR 45N2O/44N2O std\"] = df_std[\"rR 45N2O/44N2O\"].values\n",
    "df_analysis[\"rR 46N2O/44N2O std\"] = df_std[\"rR 46N2O/44N2O\"].values\n",
    "df_analysis[\"rR 31NO/30NO std\"] = df_std[\"rR 31NO/30NO\"].values"
   ]
  },
  {
   "cell_type": "code",
   "execution_count": null,
   "id": "a0bb4a06-8823-4403-9b46-7bba054d267f",
   "metadata": {},
   "outputs": [],
   "source": [
    "# Adding standard tags\n",
    "\n",
    "df_analysis.insert(1, 'ref_tag', \"\")\n",
    "df_analysis.loc[df_analysis.index.str.contains(\"S2_\"), \"ref_tag\"] = \"S2\"\n",
    "df_analysis.loc[df_analysis.index.str.contains(\"AESW\"), \"ref_tag\"] = \"AESW\"\n",
    "df_analysis.loc[df_analysis.index.str.contains(\"1000ppm\"), \"ref_tag\"] = \"1000ppm\"\n",
    "\n",
    "# Making sure the 1000 ppm reruns don't get counted\n",
    "df_analysis.loc[df_analysis.index.str.contains(\"1000ppm_rerun\"), \"ref_tag\"] = \"\""
   ]
  },
  {
   "cell_type": "markdown",
   "id": "cbe5e1f0-a887-48fc-b90a-6ac6146f9bb6",
   "metadata": {},
   "source": [
    "# Fixing rerun duplicates (if necessary)"
   ]
  },
  {
   "cell_type": "code",
   "execution_count": null,
   "id": "3b4e6503-8920-4605-9877-1a90119a0112",
   "metadata": {
    "scrolled": true
   },
   "outputs": [],
   "source": [
    "#pd.set_option('display.max_rows', 100)\n",
    "# df_analysis"
   ]
  },
  {
   "cell_type": "code",
   "execution_count": null,
   "id": "d897e952-c610-4482-8c55-cf78fc9a0a6d",
   "metadata": {
    "scrolled": true
   },
   "outputs": [],
   "source": [
    "# Adding the area values, then keeping the higher-signal row for isotopes\n",
    "\n",
    "# df_analysis.loc['Benguela24_0008_241010', 'Area 44'] = (\n",
    "#     df_analysis.loc['Benguela24_0008_240930'][\"Area 44\"] + df_analysis.loc['Benguela24_0008_241010'][\"Area 44\"])\n",
    "\n",
    "# df_analysis.loc['Benguela24_0008_241010', 'Area 30'] = (\n",
    "#     df_analysis.loc['Benguela24_0008_240930'][\"Area 30\"] + df_analysis.loc['Benguela24_0008_241010'][\"Area 30\"])\n",
    "    \n",
    "# df_analysis = df_analysis.drop('Benguela24_0008_240930')"
   ]
  },
  {
   "cell_type": "markdown",
   "id": "3efb011a-bd8a-4990-9f88-267903488daf",
   "metadata": {},
   "source": [
    "# N$_2$O concentration calculation"
   ]
  },
  {
   "cell_type": "code",
   "execution_count": null,
   "id": "cceac0c1-e397-4f72-a00b-ec933504c278",
   "metadata": {},
   "outputs": [],
   "source": [
    "# As written below this assumes a constant volume per sample\n",
    "\n",
    "df_analysis['Volume'] = 0.113 #L, from Meléa's analysis\n",
    "df_analysis['Volume_err'] = 0.0029 #L, from Meléa's analysis\n",
    "df_analysis['N2O_nmol'] = conc_slope*df_analysis['Area 44'] + conc_int\n",
    "df_analysis['N2O_nmol_err'] = conc_slope_err*df_analysis['Area 44'] + conc_int_err #CHECK THIS\n",
    "\n",
    "df_analysis['N2O_nM'] = df_analysis['N2O_nmol']/df_analysis['Volume']\n",
    "df_analysis['N2O_nM_err'] = (df_analysis['N2O_nmol_err']/df_analysis['N2O_nmol'] + \n",
    "                             df_analysis['Volume_err']/df_analysis['Volume'])*df_analysis['N2O_nM']\n",
    "df_analysis\n"
   ]
  },
  {
   "cell_type": "markdown",
   "id": "08127d7e-918a-44f4-8243-505f831a71e1",
   "metadata": {},
   "source": [
    "# Size correction"
   ]
  },
  {
   "cell_type": "code",
   "execution_count": null,
   "id": "8b283eb3-31e2-451a-8f91-9f66d93fad44",
   "metadata": {},
   "outputs": [],
   "source": [
    "# Raw sample/standard calculations\n",
    "\n",
    "df_analysis[\"raw 45rR/45rR\"] = df_analysis[\"rR 45N2O/44N2O sam\"]/df_analysis[\"rR 45N2O/44N2O std\"]\n",
    "df_analysis[\"raw 46rR/46rR\"] = df_analysis[\"rR 46N2O/44N2O sam\"]/df_analysis[\"rR 46N2O/44N2O std\"]\n",
    "df_analysis[\"raw 31rR/31rR\"] = df_analysis[\"rR 31NO/30NO sam\"]/df_analysis[\"rR 31NO/30NO std\"]\n",
    "\n",
    "# Size correction - corrected to m/z=44 peak area of 20 Vs\n",
    "\n",
    "df_analysis[\"size corrected 45rR/45rR\"] = (sizecorr_slope45R * (20 - df_analysis[\"Area 44\"]) \n",
    "                                           + df_analysis[\"raw 45rR/45rR\"])\n",
    "df_analysis[\"size corrected 46rR/46rR\"] = (sizecorr_slope46R * (20 - df_analysis[\"Area 44\"]) \n",
    "                                           + df_analysis[\"raw 46rR/46rR\"])\n",
    "df_analysis[\"size corrected 31rR/31rR\"] = (sizecorr_slope31R * (20 - df_analysis[\"Area 44\"]) \n",
    "                                           + df_analysis[\"raw 31rR/31rR\"])"
   ]
  },
  {
   "cell_type": "code",
   "execution_count": null,
   "id": "b2430716-7d65-426f-a290-6a8786f88104",
   "metadata": {
    "scrolled": true
   },
   "outputs": [],
   "source": [
    "df_analysis"
   ]
  },
  {
   "cell_type": "markdown",
   "id": "fdc66046-fc22-4921-be2b-39d8062a14c8",
   "metadata": {},
   "source": [
    "# Scale normalization"
   ]
  },
  {
   "cell_type": "code",
   "execution_count": null,
   "id": "ec90ec07-d7c6-4797-92f7-8fe19e98808c",
   "metadata": {},
   "outputs": [],
   "source": [
    "std_const"
   ]
  },
  {
   "cell_type": "code",
   "execution_count": null,
   "id": "688b81ca-6c0d-4f0e-ab44-b61b59f602c9",
   "metadata": {},
   "outputs": [],
   "source": [
    "# Selecting standards\n",
    "\n",
    "scale_norm = pd.DataFrame()\n",
    "\n",
    "scale_norm[\"ref_tag\"] = df_analysis[\"ref_tag\"]\n",
    "\n",
    "scale_norm[\"Measured 45R/45R\"] = df_analysis['size corrected 45rR/45rR'].where(\n",
    "    scale_norm[\"ref_tag\"].isin([\"S2\", \"AESW\", \"1000ppm\"]))\n",
    "\n",
    "scale_norm[\"Measured 46R/46R\"] = df_analysis['size corrected 46rR/46rR'].where(\n",
    "    scale_norm[\"ref_tag\"].isin([\"S2\", \"AESW\", \"1000ppm\"]))\n",
    "\n",
    "scale_norm = scale_norm.dropna()"
   ]
  },
  {
   "cell_type": "code",
   "execution_count": null,
   "id": "03974d38-a4ec-4a0f-897c-f444a42b0761",
   "metadata": {},
   "outputs": [],
   "source": [
    "# Populating with comparison values\n",
    "\n",
    "scale_norm.loc[scale_norm[\"ref_tag\"] == \"S2\", \"Known 45R/45R\"] = std_const.at[\"S2\", \"45R/45R\"]\n",
    "scale_norm.loc[scale_norm[\"ref_tag\"] == \"AESW\", \"Known 45R/45R\"] = std_const.at[\"AESW\", \"45R/45R\"]\n",
    "scale_norm.loc[scale_norm[\"ref_tag\"] == \"1000ppm\", \"Known 45R/45R\"] = std_const.at[\"1000ppm\", \"45R/45R\"]\n",
    "\n",
    "scale_norm.loc[scale_norm[\"ref_tag\"] == \"S2\", \"Known 46R/46R\"] = std_const.at[\"S2\", \"46R/46R\"]\n",
    "scale_norm.loc[scale_norm[\"ref_tag\"] == \"AESW\", \"Known 46R/46R\"] = std_const.at[\"AESW\", \"46R/46R\"]\n",
    "scale_norm.loc[scale_norm[\"ref_tag\"] == \"1000ppm\", \"Known 46R/46R\"] = std_const.at[\"1000ppm\", \"46R/46R\"]\n",
    "\n",
    "scale_norm[\"ln(measured 45R/45R)\"] = np.log(scale_norm[\"Measured 45R/45R\"])\n",
    "scale_norm[\"ln(measured 46R/46R)\"] = np.log(scale_norm[\"Measured 46R/46R\"])\n",
    "scale_norm[\"ln(known 45R/45R)\"] = np.log(scale_norm[\"Known 45R/45R\"])\n",
    "scale_norm[\"ln(known 46R/46R)\"] = np.log(scale_norm[\"Known 46R/46R\"])"
   ]
  },
  {
   "cell_type": "code",
   "execution_count": null,
   "id": "5b39e20c-3ca7-4503-a51b-7d43cde0c7e6",
   "metadata": {},
   "outputs": [],
   "source": [
    "scale_norm"
   ]
  },
  {
   "cell_type": "markdown",
   "id": "5964d12a-2ce5-4196-a597-4c0a05ee3b95",
   "metadata": {},
   "source": [
    "## <span style=\"color:orange\">INPUT: Check plots and remove outlier values</span>\n",
    "### List of standards to drop throughout"
   ]
  },
  {
   "cell_type": "code",
   "execution_count": null,
   "id": "8fcc0587-a518-4ccb-8670-60955306b536",
   "metadata": {},
   "outputs": [],
   "source": [
    "drop_standards = []\n",
    "#drop_standards=[\"1000ppm_1_241010\", \"S2_1_241010\", \"AESW_0911_1_241010\"]\n",
    "\n",
    "scale_norm = scale_norm.drop(drop_standards)"
   ]
  },
  {
   "cell_type": "markdown",
   "id": "be62a914-641e-4ca5-8120-2b98466a02ce",
   "metadata": {},
   "source": [
    "## 31R plot"
   ]
  },
  {
   "cell_type": "code",
   "execution_count": null,
   "id": "2f1478e6-9a3d-4912-9499-0d8be196abe8",
   "metadata": {},
   "outputs": [],
   "source": [
    "fit45 = np.polyfit(scale_norm[\"ln(measured 45R/45R)\"], scale_norm[\"ln(known 45R/45R)\"], 1, full=True)\n",
    "m45 = fit45[0][0]\n",
    "b45 = fit45[0][1]\n",
    "err45 = fit45[1][0] # error to plot here?\n",
    "\n",
    "print(\"45R slope: \" + str(m45) + \"\\n45R intercept: \" + str(b45))"
   ]
  },
  {
   "cell_type": "markdown",
   "id": "c6dd1323-d15e-454e-b427-6a3a004d1464",
   "metadata": {},
   "source": [
    "### 45R plot"
   ]
  },
  {
   "cell_type": "code",
   "execution_count": null,
   "id": "6ef9d840-a364-4634-b8c7-42809c75bf93",
   "metadata": {},
   "outputs": [],
   "source": [
    "fit45 = np.polyfit(scale_norm[\"ln(measured 45R/45R)\"], scale_norm[\"ln(known 45R/45R)\"], 1, full=True)\n",
    "m45 = fit45[0][0]\n",
    "b45 = fit45[0][1]\n",
    "err45 = fit45[1][0] # error to plot here?\n",
    "\n",
    "print(\"45R slope: \" + str(m45) + \"\\n45R intercept: \" + str(b45))"
   ]
  },
  {
   "cell_type": "code",
   "execution_count": null,
   "id": "1994bf67-c019-415a-a75b-ad17d9316e5d",
   "metadata": {},
   "outputs": [],
   "source": [
    "p = bokeh.plotting.figure(\n",
    "    max_width=500,\n",
    "    height=300,\n",
    "    title=\"45R/45R Scale Normalization\",\n",
    "    x_axis_label=\"ln(measured 45R/45R)\",\n",
    "    y_axis_label=\"ln(known 45R/45R)\"\n",
    ")\n",
    "\n",
    "hvr = bokeh.models.HoverTool(tooltips=\"@{Unique ID}\")\n",
    "p.add_tools(hvr)\n",
    "\n",
    "scatter = p.scatter(\"ln(measured 45R/45R)\", \"ln(known 45R/45R)\", size=10, source=scale_norm)\n",
    "hvr.renderers = [scatter]\n",
    "\n",
    "x_vals = np.linspace(scale_norm[\"ln(measured 45R/45R)\"].min(), scale_norm[\"ln(measured 45R/45R)\"].max())\n",
    "bestfit = p.line(x_vals, np.poly1d([m45,b45])(x_vals), legend_label=f\"y = {m45:.4f}x + {b45:.4f}\")\n",
    "\n",
    "p.legend.location = (20, 160)\n",
    "\n",
    "bokeh.plotting.show(p)"
   ]
  },
  {
   "cell_type": "markdown",
   "id": "53389bc0-2687-4c3d-b002-3f00ebe4f07b",
   "metadata": {},
   "source": [
    "### 46R plot"
   ]
  },
  {
   "cell_type": "code",
   "execution_count": null,
   "id": "c6affa62-369e-4d5e-b8d4-525ac084e98b",
   "metadata": {},
   "outputs": [],
   "source": [
    "fit46 = np.polyfit(scale_norm[\"ln(measured 46R/46R)\"], scale_norm[\"ln(known 46R/46R)\"], 1, full=True)\n",
    "m46 = fit46[0][0]\n",
    "b46 = fit46[0][1]\n",
    "err46 = fit46[1][0]\n",
    "\n",
    "print(\"46R slope: \" + str(m46) + \"\\n46R intercept: \" + str(b46))"
   ]
  },
  {
   "cell_type": "code",
   "execution_count": null,
   "id": "4089f8c6-ce10-4bae-b9ba-eee738f37e9b",
   "metadata": {},
   "outputs": [],
   "source": [
    "p = bokeh.plotting.figure(\n",
    "    max_width=500,\n",
    "    height=300,\n",
    "    title=\"46R/46R Scale Normalization\",\n",
    "    x_axis_label=\"ln(measured 46R/46R)\",\n",
    "    y_axis_label=\"ln(known 46R/46R)\",\n",
    ")\n",
    "\n",
    "hvr = bokeh.models.HoverTool(tooltips=\"@{Unique ID}\")\n",
    "p.add_tools(hvr)\n",
    "\n",
    "scatter = p.scatter(\"ln(measured 46R/46R)\", \"ln(known 46R/46R)\", size=10, source=scale_norm)\n",
    "hvr.renderers = [scatter]\n",
    "\n",
    "x_vals = np.linspace(scale_norm[\"ln(measured 46R/46R)\"].min(), scale_norm[\"ln(measured 46R/46R)\"].max())\n",
    "bestfit = p.line(x_vals, np.poly1d([m46,b46])(x_vals), legend_label=f\"y = {m46:.4f}x + {b46:.4f}\")\n",
    "p.legend.location = (20, 160)\n",
    "\n",
    "bokeh.plotting.show(p)"
   ]
  },
  {
   "cell_type": "markdown",
   "id": "8cb29edc-38b4-476a-9578-aa0eb1fa5d2c",
   "metadata": {},
   "source": [
    "## Apply scale normalization "
   ]
  },
  {
   "cell_type": "code",
   "execution_count": null,
   "id": "e639809e-2d25-4962-adf0-06c4051736f9",
   "metadata": {},
   "outputs": [],
   "source": [
    "df_analysis[\"scale decompressed 45rR/45rR\"] = df_analysis[\"size corrected 45rR/45rR\"]**m45 * np.exp(b45)\n",
    "df_analysis[\"scale decompressed 46rR/46rR\"] = df_analysis[\"size corrected 46rR/46rR\"]**m46 * np.exp(b46)"
   ]
  },
  {
   "cell_type": "markdown",
   "id": "ef9a8f57-cc91-4484-a67c-67eacf3f3f95",
   "metadata": {},
   "source": [
    "## Multiply by R values from reference N2O tank"
   ]
  },
  {
   "cell_type": "code",
   "execution_count": null,
   "id": "bf5088b8-c9b5-4482-90ba-db43c77f52de",
   "metadata": {},
   "outputs": [],
   "source": [
    "df_analysis[\"size corrected 31R\"] = df_analysis[\"size corrected 31rR/31rR\"]*N2O_ref31R\n",
    "df_analysis[\"size corrected 45R\"] = df_analysis[\"scale decompressed 45rR/45rR\"]*N2O_ref45R\n",
    "df_analysis[\"size corrected 46R\"] = df_analysis[\"scale decompressed 46rR/46rR\"]*N2O_ref46R"
   ]
  },
  {
   "cell_type": "markdown",
   "id": "9690f961-38c1-497f-9465-12cdd59a67bf",
   "metadata": {},
   "source": [
    "# Interface with pyisotopomer"
   ]
  },
  {
   "cell_type": "code",
   "execution_count": null,
   "id": "f3405467-4eab-49c7-8e05-1d3c040943c4",
   "metadata": {},
   "outputs": [],
   "source": [
    "df_analysis[\"D17O\"] = 0. # Replace with known values if you have them, but 0 is fine"
   ]
  },
  {
   "cell_type": "code",
   "execution_count": null,
   "id": "df201e18-99be-4217-bfc0-4148686e091c",
   "metadata": {},
   "outputs": [],
   "source": [
    "# This is from the earlier scale normalization step - make sure it's accurate\n",
    "\n",
    "print(drop_standards)"
   ]
  },
  {
   "cell_type": "code",
   "execution_count": null,
   "id": "0b5bda15-daec-41f5-83c0-be313256d6f3",
   "metadata": {
    "scrolled": true
   },
   "outputs": [],
   "source": [
    "df_analysis = df_analysis.drop(drop_standards)\n",
    "df_analysis"
   ]
  },
  {
   "cell_type": "markdown",
   "id": "76bee2f1-2e36-49ba-9cbc-9dbc86692c76",
   "metadata": {},
   "source": [
    "## Run scrambling"
   ]
  },
  {
   "cell_type": "code",
   "execution_count": null,
   "id": "3156a3e4-20c9-43d9-9b48-31b84510c564",
   "metadata": {},
   "outputs": [],
   "source": [
    "# Add the kwarg outputfile=\"filename.csv\" if you want to control save location,\n",
    "# or saveout=False if you don't want to save a file.\n",
    "\n",
    "scrambling_output = pyisotopomer.Scrambling(inputdf=df_analysis, refdf=std_const, method=\"least_squares\",\n",
    "                                            initialguess=[gamma_initial_guess, kappa_initial_guess],\n",
    "                                           outputfile=scrambling_output_file).alloutputs"
   ]
  },
  {
   "cell_type": "code",
   "execution_count": null,
   "id": "9c0cf616-7475-4912-b549-c738e77103a7",
   "metadata": {
    "scrolled": true
   },
   "outputs": [],
   "source": [
    "scrambling_output"
   ]
  },
  {
   "cell_type": "code",
   "execution_count": null,
   "id": "78f4daf6-a5ab-4039-a4de-0d8671c118b5",
   "metadata": {},
   "outputs": [],
   "source": [
    "gamma_mean = scrambling_output['gamma'].mean()\n",
    "kappa_mean = scrambling_output['kappa'].mean()\n",
    "\n",
    "print(\"gamma: \" + str(gamma_mean) + \"\\nkappa: \" + str(kappa_mean))"
   ]
  },
  {
   "cell_type": "code",
   "execution_count": null,
   "id": "16821d6e-3dc9-4592-8d84-e76d1a5a03f7",
   "metadata": {},
   "outputs": [],
   "source": [
    "df_analysis['gamma'] = gamma_mean\n",
    "df_analysis['kappa'] = kappa_mean"
   ]
  },
  {
   "cell_type": "markdown",
   "id": "1f127e45-a481-4c5a-9ec6-43eb9406e13a",
   "metadata": {},
   "source": [
    "## Run isotopomers"
   ]
  },
  {
   "cell_type": "code",
   "execution_count": null,
   "id": "720b4b9d-f0d6-4c89-b2a2-f3679047f0f5",
   "metadata": {},
   "outputs": [],
   "source": [
    "# Add the kwarg outputfile=\"filename.csv\" if you want to control save location,\n",
    "# or saveout=False if you don't want to save a file.\n",
    "\n",
    "isotopomersoutput = pyisotopomer.Isotopomers(inputdf=df_analysis, outputfile=isotopomers_output_file).deltavals"
   ]
  },
  {
   "cell_type": "code",
   "execution_count": null,
   "id": "6f12775b-c0d6-4700-af47-0d8bc439c6e4",
   "metadata": {},
   "outputs": [],
   "source": [
    "isotopomersoutput"
   ]
  },
  {
   "cell_type": "code",
   "execution_count": null,
   "id": "e9e51140-9f0f-429c-8e65-661e67ce513e",
   "metadata": {},
   "outputs": [],
   "source": [
    "# Reorganizing\n",
    "\n",
    "df_output = isotopomersoutput.copy()\n",
    "df_output[\"Unique ID\"] = df_analysis[\"Unique ID\"].values\n",
    "df_output= df_output.set_index(\"Unique ID\")"
   ]
  },
  {
   "cell_type": "code",
   "execution_count": null,
   "id": "d3d71633-34bf-4aa1-ac1a-f42993c12eec",
   "metadata": {},
   "outputs": [],
   "source": [
    "# Grabbing any extra columns you want from df_analysis - add others if desired\n",
    "\n",
    "cols_to_add = ['Isodat output filename', 'N2O_nmol', 'N2O_nmol_err', 'N2O_nM', 'N2O_nM_err']\n",
    "\n",
    "df_output = pd.merge(df_output, df_analysis[cols_to_add], on=\"Unique ID\")\n",
    "\n",
    "# Rearranging order\n",
    "\n",
    "df_output.insert(0, 'Isodat output filename', df_output.pop('Isodat output filename'))"
   ]
  },
  {
   "cell_type": "code",
   "execution_count": null,
   "id": "7b9a7961-baa7-4dcf-b19c-d597eccebb06",
   "metadata": {},
   "outputs": [],
   "source": [
    "# Dropping rows with standards\n",
    "\n",
    "df_std_output = df_output[df_output.index.str.contains(\"S2_|AESW|1000ppm\")]\n",
    "df_output = df_output[~df_output.index.str.contains(\"S2_|AESW|1000ppm\")]\n"
   ]
  },
  {
   "cell_type": "code",
   "execution_count": null,
   "id": "3926e071-df37-4010-9cf4-ff035c8df7a3",
   "metadata": {},
   "outputs": [],
   "source": [
    "df_std_output"
   ]
  },
  {
   "cell_type": "markdown",
   "id": "dc1be2ab-26d7-4e03-badd-d4e752c0bec8",
   "metadata": {},
   "source": [
    "## <span style=\"color:orange\">INPUT: Check standard isotopomers</span>\n",
    "\n",
    "If you want to remove any points, add those standards to `drop_standards` and rerun the pipeline"
   ]
  },
  {
   "cell_type": "code",
   "execution_count": null,
   "id": "2516db0a-1f9c-4a39-8224-85e27d6374e9",
   "metadata": {},
   "outputs": [],
   "source": [
    "aesw = df_std_output[df_std_output[\"Identifier 1\"].str.contains(\"AESW\")]\n",
    "\n",
    "ppm1000 = df_std_output[df_std_output[\"Identifier 1\"].str.contains(\"1000ppm\")]\n",
    "ppm1000 = ppm1000[~ppm1000[\"Identifier 1\"].str.contains(\"rerun\")]\n",
    "\n",
    "s2 = df_std_output[df_std_output[\"Identifier 1\"].str.contains(\"S2\")]"
   ]
  },
  {
   "cell_type": "code",
   "execution_count": null,
   "id": "6ff224f6-9ccd-4c3c-a3c5-f07cff0b4f73",
   "metadata": {},
   "outputs": [],
   "source": [
    "aesw"
   ]
  },
  {
   "cell_type": "code",
   "execution_count": null,
   "id": "25dc6ac3-2198-4cf2-abb9-9ce471bf6aed",
   "metadata": {},
   "outputs": [],
   "source": [
    "fig, axs = plt.subplots(1, 3, figsize=(12, 5))\n",
    "\n",
    "# AESW\n",
    "\n",
    "axs[0].hist(aesw.SP, bins=5, color='lightblue', edgecolor='white')\n",
    "\n",
    "min_y, max_y = axs[0].get_ylim()\n",
    "\n",
    "axs[0].vlines(17.9, ymin=min_y, ymax=max_y, color='r', label=\"expected\")\n",
    "axs[0].vlines(aesw.SP.mean(), ymin=min_y, ymax=max_y, color='k', label=\"mean\")\n",
    "\n",
    "aesw_stdev = aesw.SP.std()\n",
    "axs[0].vlines(aesw.SP.mean() - aesw_stdev, ymin=min_y, ymax=max_y, color='grey', ls='--', label=\" 1 stdev\")\n",
    "axs[0].vlines(aesw.SP.mean() + aesw_stdev, ymin=min_y, ymax=max_y, color='grey', ls='--')\n",
    "axs[0].set_title(\"AESW\")\n",
    "axs[0].set_ylabel(\"Counts\")\n",
    "\n",
    "# S2\n",
    "\n",
    "axs[1].hist(s2.SP, bins=5, color='lightgreen', edgecolor='white')\n",
    "\n",
    "min_y, max_y = axs[1].get_ylim()\n",
    "\n",
    "axs[1].vlines(18.42, ymin=min_y, ymax=max_y, color='r', label=\"expected\")\n",
    "axs[1].vlines(s2.SP.mean(), ymin=min_y, ymax=max_y, color='k', label=\"mean\")\n",
    "\n",
    "s2_stdev = s2.SP.std()\n",
    "axs[1].vlines(s2.SP.mean() - s2_stdev, ymin=min_y, ymax=max_y, color='grey', ls='--', label=\" 1 stdev\")\n",
    "axs[1].vlines(s2.SP.mean() + s2_stdev, ymin=min_y, ymax=max_y, color='grey', ls='--')\n",
    "axs[1].set_title(\"S2\")\n",
    "\n",
    "# 1000 ppm\n",
    "\n",
    "axs[2].hist(ppm1000.SP, bins=5, color='sandybrown', edgecolor='white')\n",
    "\n",
    "min_y, max_y = axs[2].get_ylim()\n",
    "\n",
    "axs[2].vlines(0.34, ymin=min_y, ymax=max_y, color='r', label=\"expected\")\n",
    "axs[2].vlines(ppm1000.SP.mean(), ymin=min_y, ymax=max_y, color='k', label=\"mean\")\n",
    "\n",
    "ppm1000_stdev = ppm1000.SP.std()\n",
    "axs[2].vlines(ppm1000.SP.mean() - ppm1000_stdev, ymin=min_y, ymax=max_y, color='grey', ls='--', label=\" 1 stdev\")\n",
    "axs[2].vlines(ppm1000.SP.mean() + ppm1000_stdev, ymin=min_y, ymax=max_y, color='grey', ls='--')\n",
    "axs[2].set_title(\"1000 ppm\")\n",
    "\n",
    "for ax in axs:\n",
    "    ax.legend()\n",
    "    ax.set_xlabel(\"Site preference\")\n",
    "\n",
    "plt.show()"
   ]
  },
  {
   "cell_type": "markdown",
   "id": "95aac4d6-6687-44aa-a518-d126a3046bba",
   "metadata": {},
   "source": [
    "# Make a nice final file with just your data\n",
    "Includes original file name, delta and site preference values, and N2O concentrations."
   ]
  },
  {
   "cell_type": "code",
   "execution_count": null,
   "id": "9887d7d2-a832-404a-8f72-308cec5abe9f",
   "metadata": {},
   "outputs": [],
   "source": [
    "# Uncomment to see all rows\n",
    "\n",
    "#pd.set_option('display.max_rows', None)\n",
    "\n",
    "df_output"
   ]
  },
  {
   "cell_type": "code",
   "execution_count": null,
   "id": "d17bbbd4-4c6a-498d-b93b-abb80b3e6dbd",
   "metadata": {},
   "outputs": [],
   "source": [
    "# Writing to file\n",
    "\n",
    "df_output.to_csv(processed_output_file)\n",
    "\n",
    "# If you also want to write out your standards separately \n",
    "\n",
    "#df_std_output.to_csv(processed_std_file)\n",
    "\n",
    "#df_output.to_excel(\"test.xlsx\")"
   ]
  }
 ],
 "metadata": {
  "kernelspec": {
   "display_name": "Python 3 (ipykernel)",
   "language": "python",
   "name": "python3"
  },
  "language_info": {
   "codemirror_mode": {
    "name": "ipython",
    "version": 3
   },
   "file_extension": ".py",
   "mimetype": "text/x-python",
   "name": "python",
   "nbconvert_exporter": "python",
   "pygments_lexer": "ipython3",
   "version": "3.12.7"
  }
 },
 "nbformat": 4,
 "nbformat_minor": 5
}
